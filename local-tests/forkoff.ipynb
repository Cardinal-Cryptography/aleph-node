{
 "cells": [
  {
   "cell_type": "code",
   "execution_count": null,
   "id": "a0ae873f-552a-4e86-b3e9-82a4fc97bd4a",
   "metadata": {},
   "outputs": [],
   "source": [
    "alephhome = '/home/hansu/aleph/aleph-node'"
   ]
  },
  {
   "cell_type": "code",
   "execution_count": null,
   "id": "c6e40721-105c-4f3a-b0b9-1666a4e3f354",
   "metadata": {},
   "outputs": [],
   "source": [
    "import sys\n",
    "import shutil\n",
    "from os.path import join\n",
    "\n",
    "sys.path.append(join(alephhome, 'local-tests'))\n",
    "from chainrunner import Chain, Seq, generate_keys, check_finalized, check_version"
   ]
  },
  {
   "cell_type": "code",
   "execution_count": null,
   "id": "8cfb5287-6026-432e-a880-3121cd102547",
   "metadata": {},
   "outputs": [],
   "source": [
    "desk = '/home/hansu/aleph/desk'\n",
    "workdir = join(desk, 'workdir')\n",
    "\n",
    "testbin = join(desk, 'bin', 'aleph-node-5.2')\n",
    "binary = join(desk, 'bin', 'aleph-node-6.0')\n",
    "\n",
    "runtime = join(desk, 'bin', 'aleph_runtime.compact.wasm.20')\n",
    "forkoff = join(alephhome, 'fork-off/target/release/fork-off')\n",
    "cliain = join(alephhome, 'bin/cliain/target/release/cliain')\n",
    "\n",
    "testnet_ws = 'wss://ws.test.azero.dev'"
   ]
  },
  {
   "cell_type": "code",
   "execution_count": null,
   "id": "c4e1e801-0c33-4cc6-b7ab-8b80ae777d8a",
   "metadata": {},
   "outputs": [],
   "source": [
    "PORT = 30334\n",
    "WS_PORT = 9944\n",
    "RPC_PORT = 9933"
   ]
  },
  {
   "cell_type": "code",
   "execution_count": null,
   "id": "8b14abd3-19d0-4203-848e-e5222f6e9cc0",
   "metadata": {},
   "outputs": [],
   "source": [
    "phrases = ['//Alice', '//Bob', '//Charlie', '//Dave']\n",
    "keys = generate_keys(binary, phrases)"
   ]
  },
  {
   "cell_type": "code",
   "execution_count": null,
   "id": "8b05b63c-9bf2-48b9-acd5-6c87f19480b3",
   "metadata": {},
   "outputs": [],
   "source": [
    "#shutil.rmtree(workdir, True)\n",
    "chain = Chain(workdir)\n",
    "chain.bootstrap(testbin, keys.values(),\n",
    "                chain_type='live',\n",
    "                sudo_account_id=keys[phrases[0]],\n",
    "                raw=True)"
   ]
  },
  {
   "cell_type": "code",
   "execution_count": null,
   "id": "c5dbe7a5-7411-4898-8c89-6efefb85fd2c",
   "metadata": {
    "tags": []
   },
   "outputs": [],
   "source": [
    "chain.fork(forkoff, testnet_ws)"
   ]
  },
  {
   "cell_type": "code",
   "execution_count": null,
   "id": "9b0d8967-1056-4917-95b3-293e3024cd88",
   "metadata": {},
   "outputs": [],
   "source": [
    "chain.set_flags('validator',\n",
    "                'unsafe-ws-external',\n",
    "                'unsafe-rpc-external',\n",
    "                'no-mdns',\n",
    "                port=Seq(PORT),\n",
    "                ws_port=Seq(WS_PORT),\n",
    "                rpc_port=Seq(RPC_PORT),\n",
    "                unit_creation_delay=500,\n",
    "                execution='Native',\n",
    "                rpc_cors='all',\n",
    "                rpc_methods='Unsafe',\n",
    "               )"
   ]
  },
  {
   "cell_type": "code",
   "execution_count": null,
   "id": "21f73758-b80d-46f7-975f-4480c14e6780",
   "metadata": {},
   "outputs": [],
   "source": [
    "addresses = [n.address() for n in chain]\n",
    "chain.set_flags(bootnodes=addresses[0], public_addr=addresses)"
   ]
  },
  {
   "cell_type": "code",
   "execution_count": null,
   "id": "8ff42153-9867-48cf-affb-bdfe0303571d",
   "metadata": {},
   "outputs": [],
   "source": [
    "chain.start('node')"
   ]
  },
  {
   "cell_type": "code",
   "execution_count": null,
   "id": "07e76c58-4499-43e2-891a-4fbbca6cb07d",
   "metadata": {
    "tags": []
   },
   "outputs": [],
   "source": [
    "check_finalized(chain)"
   ]
  },
  {
   "cell_type": "code",
   "execution_count": null,
   "id": "7b174620-ecaa-4bd1-ad1b-d22acd70f8ad",
   "metadata": {},
   "outputs": [],
   "source": [
    "check_version(chain)"
   ]
  },
  {
   "cell_type": "code",
   "execution_count": null,
   "id": "a59d979a-b6d2-43db-97bc-54832be222cc",
   "metadata": {},
   "outputs": [],
   "source": [
    "def restart(i):\n",
    "    chain[i].stop()\n",
    "    chain.set_binary(binary, nodes=[i])\n",
    "    chain[i].start(f'new{i}')"
   ]
  },
  {
   "cell_type": "code",
   "execution_count": null,
   "id": "d1d6ad00-7532-4ff0-af4a-b16ae7ea5d7d",
   "metadata": {},
   "outputs": [],
   "source": [
    "restart(2)"
   ]
  },
  {
   "cell_type": "code",
   "execution_count": null,
   "id": "573cc7c4-dc90-42d6-88ff-a518039f38c5",
   "metadata": {},
   "outputs": [],
   "source": [
    "restart(1)"
   ]
  },
  {
   "cell_type": "code",
   "execution_count": null,
   "id": "947efa53-90f1-4fdd-82f3-c31f17bf6102",
   "metadata": {},
   "outputs": [],
   "source": [
    "restart(3)"
   ]
  },
  {
   "cell_type": "code",
   "execution_count": null,
   "id": "495614fc-db4c-4fe4-b213-a9d384bbdf7a",
   "metadata": {},
   "outputs": [],
   "source": [
    "restart(0)"
   ]
  },
  {
   "cell_type": "code",
   "execution_count": null,
   "id": "6b47dc34-2e2d-4d2a-a921-c870485a1576",
   "metadata": {},
   "outputs": [],
   "source": [
    "check_finalized(chain)"
   ]
  },
  {
   "cell_type": "code",
   "execution_count": null,
   "id": "0e0fcf39-c7c8-4ee7-a842-9053bb409e45",
   "metadata": {
    "tags": []
   },
   "outputs": [],
   "source": [
    "check_version(chain)"
   ]
  },
  {
   "cell_type": "code",
   "execution_count": null,
   "id": "6e3620cd-d599-4fa4-b6f9-956f62158b4b",
   "metadata": {},
   "outputs": [],
   "source": [
    "chain.update_runtime(cliain, phrases[0], runtime)"
   ]
  },
  {
   "cell_type": "code",
   "execution_count": null,
   "id": "6a81ab99-ff61-4874-8748-82e7069eb34d",
   "metadata": {
    "tags": []
   },
   "outputs": [],
   "source": [
    "check_version(chain)"
   ]
  },
  {
   "cell_type": "code",
   "execution_count": null,
   "id": "e2f9fca4-dfe6-4c51-84d5-09948022c39b",
   "metadata": {},
   "outputs": [],
   "source": [
    "check_finalized(chain)"
   ]
  },
  {
   "cell_type": "code",
   "execution_count": null,
   "id": "dae196fb-24cf-409f-8090-4aa81e4e8516",
   "metadata": {},
   "outputs": [],
   "source": [
    "chain.stop()"
   ]
  }
 ],
 "metadata": {
  "kernelspec": {
   "display_name": "Python 3 (ipykernel)",
   "language": "python",
   "name": "python3"
  },
  "language_info": {
   "codemirror_mode": {
    "name": "ipython",
    "version": 3
   },
   "file_extension": ".py",
   "mimetype": "text/x-python",
   "name": "python",
   "nbconvert_exporter": "python",
   "pygments_lexer": "ipython3",
   "version": "3.10.4"
  }
 },
 "nbformat": 4,
 "nbformat_minor": 5
}
