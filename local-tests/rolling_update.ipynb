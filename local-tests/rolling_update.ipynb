{
 "cells": [
  {
   "cell_type": "code",
   "execution_count": null,
   "id": "d321da49-735c-4f1b-b1f7-5b3f40d1e3cb",
   "metadata": {},
   "outputs": [],
   "source": [
    "# !!! MODIFY ME !!! \n",
    "# The total number of nodes can be at most 10. To use more, one must extend the 'names' list below\n",
    "N_VALIDATORS = 7\n",
    "N_ARCHIVISTS = 2\n",
    "# True = use all nodes as bootnodes\n",
    "# False = use only archivists as bootnodes\n",
    "ALL_BOOTNODES = False\n",
    "\n",
    "# Path to aleph-node repo\n",
    "ALEPH_NODE = '$HOME/aleph/aleph-node/'\n",
    "# Path to test directory\n",
    "TEST_HOME = '$HOME/aleph/tests'\n",
    "\n",
    "from os.path import join, expandvars\n",
    "# Path to working directory, where chainspec, logs and nodes' dbs are written:\n",
    "# WARNING: the whole workdir is cleared before the chain is set up!\n",
    "workdir = expandvars(join(TEST_HOME, 'workdir'))\n",
    "# Path to the pre-update aleph-node binary:\n",
    "oldbin = expandvars(join(TEST_HOME, 'aleph-node-10.1'))\n",
    "# Path to the post-update aleph-node binary:\n",
    "newbin = expandvars(join(TEST_HOME, 'aleph-node-11.3'))\n",
    "# Path to the post-update compiled runtime:\n",
    "runtime = expandvars(join(TEST_HOME, 'aleph_runtime.64'))"
   ]
  },
  {
   "cell_type": "code",
   "execution_count": null,
   "id": "034d1a27-bc87-40c9-887d-c91c94e86105",
   "metadata": {},
   "outputs": [],
   "source": [
    "import shutil\n",
    "import sys\n",
    "import time\n",
    "from substrateinterface import SubstrateInterface, Keypair\n",
    "\n",
    "sys.path.append(join(ALEPH_NODE, 'local-tests'))\n",
    "from chainrunner import Chain, Seq, generate_keys"
   ]
  },
  {
   "cell_type": "code",
   "execution_count": null,
   "id": "e2ec0184-dab8-428c-b683-de94127980ea",
   "metadata": {},
   "outputs": [],
   "source": [
    "# Ports for node 0, consecutive numbers are used for other nodes \n",
    "PORT = 30334\n",
    "WS_PORT = 9943\n",
    "RPC_PORT = 9933\n",
    "VAL_PORT = 30343"
   ]
  },
  {
   "cell_type": "code",
   "execution_count": null,
   "id": "8b14abd3-19d0-4203-848e-e5222f6e9cc0",
   "metadata": {},
   "outputs": [],
   "source": [
    "names = ['//Alice','//Bob','//Charlie','//Dave','//Eve','//Ferdie','//George','//Hans','//Iris','//James']\n",
    "val_keys = generate_keys(oldbin, names[:N_VALIDATORS])\n",
    "arch_keys = generate_keys(oldbin, names[N_VALIDATORS:N_VALIDATORS + N_ARCHIVISTS])\n",
    "\n",
    "sudo = val_keys['//Alice']\n",
    "val_addrs = ['127.0.0.1:'+str(i) for i in range(VAL_PORT, VAL_PORT + N_VALIDATORS + N_ARCHIVISTS)]\n",
    "\n",
    "shutil.rmtree(workdir, True)\n",
    "chain = Chain(workdir)\n",
    "chain.bootstrap(oldbin,\n",
    "                val_keys.values(),\n",
    "                nonvalidators=arch_keys.values(),\n",
    "                chain_type='live',\n",
    "                sudo_account_id=sudo,\n",
    "                raw=True)\n",
    "\n",
    "chain.set_flags('validator',\n",
    "                'unsafe-ws-external',\n",
    "                'unsafe-rpc-external',\n",
    "                'no-mdns',\n",
    "                port=Seq(PORT),\n",
    "                rpc_port=Seq(RPC_PORT),\n",
    "                validator_port=Seq(VAL_PORT),\n",
    "                public_validator_addresses=val_addrs,\n",
    "                unit_creation_delay=500,\n",
    "                execution='Native',\n",
    "                rpc_cors='all',\n",
    "                rpc_methods='Unsafe',\n",
    "                state_pruning='archive',\n",
    "               )\n",
    "\n",
    "addresses = [n.address() for n in chain]\n",
    "bootnodes = addresses if ALL_BOOTNODES else addresses[N_VALIDATORS:]\n",
    "chain.set_flags(bootnodes=' '.join(bootnodes), public_addr=addresses)"
   ]
  },
  {
   "cell_type": "code",
   "execution_count": null,
   "id": "87c58e74-854d-486f-8b18-0f968a40bf7f",
   "metadata": {},
   "outputs": [],
   "source": [
    "# Helper function to upgrade nodes\n",
    "def upgrade_node(i, purge=False, wait=True):\n",
    "    prev = chain[i].change_binary(newbin, 'new', purge)\n",
    "    time.sleep(5)\n",
    "    if wait:\n",
    "        try:\n",
    "            chain.wait_for_finalization(prev, nodes=[i], timeout=120, finalized_delta=7)\n",
    "            print(f'Node {i} finalization restored')\n",
    "        except TimeoutError:\n",
    "            print(f'Node {i} finalization stuck')\n",
    "    chain.status()"
   ]
  },
  {
   "cell_type": "code",
   "execution_count": null,
   "id": "8ff42153-9867-48cf-affb-bdfe0303571d",
   "metadata": {},
   "outputs": [],
   "source": [
    "chain.start('old')\n",
    "chain.wait_for_finalization(0)\n",
    "chain.status()"
   ]
  },
  {
   "cell_type": "code",
   "execution_count": null,
   "id": "b91a9fee-64b2-4b7f-966e-95efd8031aaa",
   "metadata": {},
   "outputs": [],
   "source": []
  },
  {
   "cell_type": "code",
   "execution_count": null,
   "id": "6bcfae9b-a187-4109-90bb-1917e18992ec",
   "metadata": {},
   "outputs": [],
   "source": [
    "upgrade_node(0, wait=False)"
   ]
  },
  {
   "cell_type": "code",
   "execution_count": null,
   "id": "a4f87179-d142-4528-9ac8-a70e9ba37a94",
   "metadata": {},
   "outputs": [],
   "source": [
    "upgrade_node(1)"
   ]
  },
  {
   "cell_type": "code",
   "execution_count": null,
   "id": "2e9d9188-e429-4692-b2a9-e19c2b97f8d6",
   "metadata": {},
   "outputs": [],
   "source": [
    "upgrade_node(2, purge=True)"
   ]
  },
  {
   "cell_type": "code",
   "execution_count": null,
   "id": "08dc88a6-3134-4d4a-bcc6-d8cb54cf7c63",
   "metadata": {},
   "outputs": [],
   "source": [
    "upgrade_node(3)"
   ]
  },
  {
   "cell_type": "code",
   "execution_count": null,
   "id": "9f41e1ef-a05a-426b-8a8a-28604b22f677",
   "metadata": {},
   "outputs": [],
   "source": [
    "upgrade_node(4)"
   ]
  },
  {
   "cell_type": "code",
   "execution_count": null,
   "id": "2e238224-84a5-42df-8dfc-5efce0912842",
   "metadata": {},
   "outputs": [],
   "source": [
    "upgrade_node(5)"
   ]
  },
  {
   "cell_type": "code",
   "execution_count": null,
   "id": "ea730d55-90c4-4732-b703-8aa74a67661b",
   "metadata": {
    "scrolled": true
   },
   "outputs": [],
   "source": [
    "upgrade_node(6)"
   ]
  },
  {
   "cell_type": "code",
   "execution_count": null,
   "id": "d42237c2-0181-4e59-9f47-5851f6f313be",
   "metadata": {},
   "outputs": [],
   "source": [
    "upgrade_node(7)"
   ]
  },
  {
   "cell_type": "code",
   "execution_count": null,
   "id": "0875e4b7-8f60-40e0-94c5-0e9b96ad37eb",
   "metadata": {},
   "outputs": [],
   "source": [
    "upgrade_node(8)"
   ]
  },
  {
   "cell_type": "code",
   "execution_count": null,
   "id": "752e0839-91be-4dcd-ad71-60d88ce7ef32",
   "metadata": {},
   "outputs": [],
   "source": [
    "chain[1].stop()\n",
    "chain[1].start('postcrash_')"
   ]
  },
  {
   "cell_type": "code",
   "execution_count": null,
   "id": "1c108975-ea5c-4414-bf17-14b0f4e9f253",
   "metadata": {},
   "outputs": [],
   "source": [
    "chain[2].update_runtime(runtime, names[0])"
   ]
  },
  {
   "cell_type": "code",
   "execution_count": null,
   "id": "25d639eb-99b3-4345-b822-4963433d7437",
   "metadata": {},
   "outputs": [],
   "source": [
    "chain.stop()"
   ]
  },
  {
   "cell_type": "code",
   "execution_count": null,
   "id": "93b23a78-e58d-494f-b657-9e8e0ad53a79",
   "metadata": {},
   "outputs": [],
   "source": []
  },
  {
   "cell_type": "code",
   "execution_count": null,
   "id": "e6615dc6-50e3-4201-901d-673c852d5058",
   "metadata": {},
   "outputs": [],
   "source": [
    "# TOOLBOX"
   ]
  },
  {
   "cell_type": "code",
   "execution_count": null,
   "id": "26f79fc2-beeb-43dc-8c90-548480b3a025",
   "metadata": {},
   "outputs": [],
   "source": [
    "# General chain status\n",
    "chain.status()"
   ]
  },
  {
   "cell_type": "code",
   "execution_count": null,
   "id": "cadf9b44-8fcb-4caa-af6b-70fe55024e6f",
   "metadata": {},
   "outputs": [],
   "source": [
    "# Restart some nodes\n",
    "chain.stop(nodes=[2,3])\n",
    "time.sleep(5)\n",
    "chain.start('restart', nodes=[2,3])"
   ]
  },
  {
   "cell_type": "code",
   "execution_count": null,
   "id": "72c86c31-01ed-43f0-80f9-1898df514d68",
   "metadata": {},
   "outputs": [],
   "source": [
    "# Restart the whole chain\n",
    "chain.stop()\n",
    "time.sleep(5)\n",
    "chain.start('fullrestart')"
   ]
  },
  {
   "cell_type": "code",
   "execution_count": null,
   "id": "e54777c2-feb2-4149-8afa-c58e9de6636f",
   "metadata": {},
   "outputs": [],
   "source": [
    "# Change log level for one node (on the fly)\n",
    "chain[6].set_log_level('sync', 'debug')"
   ]
  },
  {
   "cell_type": "code",
   "execution_count": null,
   "id": "228bec26-9db6-4c91-9e6c-7267edc31b5f",
   "metadata": {},
   "outputs": [],
   "source": [
    "# Change log level for all nodes (on the fly)\n",
    "chain.set_log_level('sync', 'debug')"
   ]
  },
  {
   "cell_type": "code",
   "execution_count": null,
   "id": "50149ba8-e746-4750-a498-2e016905a075",
   "metadata": {
    "scrolled": true
   },
   "outputs": [],
   "source": [
    "# Grep node's current log for regexp\n",
    "chain[0].greplog(r'best: #\\d+ .+ finalized #\\d+')"
   ]
  },
  {
   "cell_type": "code",
   "execution_count": null,
   "id": "2c45bbdf-d13e-457d-99c4-a9e09aa09168",
   "metadata": {},
   "outputs": [],
   "source": []
  }
 ],
 "metadata": {
  "kernelspec": {
   "display_name": "Python 3 (ipykernel)",
   "language": "python",
   "name": "python3"
  },
  "language_info": {
   "codemirror_mode": {
    "name": "ipython",
    "version": 3
   },
   "file_extension": ".py",
   "mimetype": "text/x-python",
   "name": "python",
   "nbconvert_exporter": "python",
   "pygments_lexer": "ipython3",
   "version": "3.11.3"
  }
 },
 "nbformat": 4,
 "nbformat_minor": 5
}
