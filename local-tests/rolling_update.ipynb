{
 "cells": [
  {
   "cell_type": "code",
   "execution_count": null,
   "id": "034d1a27-bc87-40c9-887d-c91c94e86105",
   "metadata": {},
   "outputs": [],
   "source": [
    "import shutil\n",
    "import sys\n",
    "import time\n",
    "from os.path import join\n",
    "from substrateinterface import SubstrateInterface, Keypair"
   ]
  },
  {
   "cell_type": "code",
   "execution_count": null,
   "id": "4f392f1d-0378-4af5-8264-d747fde09dd1",
   "metadata": {},
   "outputs": [],
   "source": [
    "alephhome = '/home/hansu/aleph/aleph-node/'\n",
    "sys.path.append(join(alephhome, 'local-tests'))\n",
    "from chainrunner import Chain, Seq, generate_keys"
   ]
  },
  {
   "cell_type": "code",
   "execution_count": null,
   "id": "8cfb5287-6026-432e-a880-3121cd102547",
   "metadata": {},
   "outputs": [],
   "source": [
    "testhome = '/home/hansu/aleph/desk'\n",
    "# Path to working directory, where chainspec, logs and nodes' dbs are written:\n",
    "workdir = join(testhome, 'workdir')\n",
    "# Path to the pre-update aleph-node binary:\n",
    "binary = join(testhome, 'bin', 'aleph-node-10.1')\n",
    "# Path to the post-update aleph-node binary:\n",
    "newbin = join(testhome, 'bin', 'aleph-node-11.1')\n",
    "# Path to the post-update compiled runtime:\n",
    "runtime = join(testhome, 'bin','aleph_runtime.64')"
   ]
  },
  {
   "cell_type": "code",
   "execution_count": null,
   "id": "a0dd1e2a-5c5f-483b-97e9-142e2447107e",
   "metadata": {},
   "outputs": [],
   "source": [
    "N_VALIDATORS = 7 #at most 10, unless you extend names list below\n",
    "# Ports for node 0, consecutive numbers are used for other nodes \n",
    "PORT = 30334\n",
    "WS_PORT = 9943\n",
    "RPC_PORT = 9933\n",
    "VAL_PORT = 30343"
   ]
  },
  {
   "cell_type": "code",
   "execution_count": null,
   "id": "8b14abd3-19d0-4203-848e-e5222f6e9cc0",
   "metadata": {},
   "outputs": [],
   "source": [
    "names = ['//Alice','//Bob','//Charlie','//Dave','//Eve','//Ferdie','//George','//Hans','//Iris','//James']\n",
    "phrases = names[:N_VALIDATORS]\n",
    "keys = generate_keys(binary, phrases)\n",
    "\n",
    "sudo = keys['//Alice']\n",
    "faucet = keys['//Bob']\n",
    "val_addrs = ['127.0.0.1:'+str(i) for i in range(VAL_PORT, VAL_PORT+N_VALIDATORS)]\n",
    "\n",
    "shutil.rmtree(workdir, True)\n",
    "chain = Chain(workdir)\n",
    "chain.bootstrap(binary, keys.values(),\n",
    "                chain_type='live',\n",
    "                faucet_account_id=faucet,\n",
    "                sudo_account_id=sudo,\n",
    "                raw=True)\n",
    "\n",
    "chain.set_flags('validator',\n",
    "                'unsafe-ws-external',\n",
    "                'unsafe-rpc-external',\n",
    "                'no-mdns',\n",
    "                port=Seq(PORT),\n",
    "                ws_port=Seq(WS_PORT),\n",
    "                rpc_port=Seq(RPC_PORT),\n",
    "                validator_port=Seq(VAL_PORT),\n",
    "                public_validator_addresses=val_addrs,\n",
    "                unit_creation_delay=500,\n",
    "                execution='Native',\n",
    "                rpc_cors='all',\n",
    "                rpc_methods='Unsafe',\n",
    "                state_pruning='archive'\n",
    "               )\n",
    "\n",
    "addresses = [n.address() for n in chain]\n",
    "chain.set_flags(bootnodes=''.join(addresses), public_addr=addresses)"
   ]
  },
  {
   "cell_type": "code",
   "execution_count": null,
   "id": "87c58e74-854d-486f-8b18-0f968a40bf7f",
   "metadata": {},
   "outputs": [],
   "source": [
    "# Helper function to upgrade nodes\n",
    "def upgrade_node(i, purge=False, wait=True):\n",
    "    prev = chain[i].change_binary(newbin, 'new', purge)\n",
    "    time.sleep(5)\n",
    "    if wait:\n",
    "        try:\n",
    "            chain.wait_for_finalization(prev, nodes=[i], timeout=120, finalized_delta=7)\n",
    "            print(f'Node {i} finalization restored')\n",
    "        except TimeoutError:\n",
    "            print(f'Node {i} finalization stuck')\n",
    "    chain.status()"
   ]
  },
  {
   "cell_type": "code",
   "execution_count": null,
   "id": "8ff42153-9867-48cf-affb-bdfe0303571d",
   "metadata": {},
   "outputs": [],
   "source": [
    "chain.start('old')\n",
    "chain.wait_for_finalization(0)\n",
    "chain.status()"
   ]
  },
  {
   "cell_type": "code",
   "execution_count": null,
   "id": "b91a9fee-64b2-4b7f-966e-95efd8031aaa",
   "metadata": {},
   "outputs": [],
   "source": []
  },
  {
   "cell_type": "code",
   "execution_count": null,
   "id": "6bcfae9b-a187-4109-90bb-1917e18992ec",
   "metadata": {},
   "outputs": [],
   "source": [
    "upgrade_node(0, wait=False)"
   ]
  },
  {
   "cell_type": "code",
   "execution_count": null,
   "id": "a4f87179-d142-4528-9ac8-a70e9ba37a94",
   "metadata": {},
   "outputs": [],
   "source": [
    "upgrade_node(1, purge=True)"
   ]
  },
  {
   "cell_type": "code",
   "execution_count": null,
   "id": "2e9d9188-e429-4692-b2a9-e19c2b97f8d6",
   "metadata": {},
   "outputs": [],
   "source": [
    "upgrade_node(2)"
   ]
  },
  {
   "cell_type": "code",
   "execution_count": null,
   "id": "08dc88a6-3134-4d4a-bcc6-d8cb54cf7c63",
   "metadata": {},
   "outputs": [],
   "source": [
    "upgrade_node(3)"
   ]
  },
  {
   "cell_type": "code",
   "execution_count": null,
   "id": "9f41e1ef-a05a-426b-8a8a-28604b22f677",
   "metadata": {},
   "outputs": [],
   "source": [
    "upgrade_node(4)"
   ]
  },
  {
   "cell_type": "code",
   "execution_count": null,
   "id": "2e238224-84a5-42df-8dfc-5efce0912842",
   "metadata": {},
   "outputs": [],
   "source": [
    "upgrade_node(5)"
   ]
  },
  {
   "cell_type": "code",
   "execution_count": null,
   "id": "ea730d55-90c4-4732-b703-8aa74a67661b",
   "metadata": {},
   "outputs": [],
   "source": [
    "upgrade_node(6)"
   ]
  },
  {
   "cell_type": "code",
   "execution_count": null,
   "id": "752e0839-91be-4dcd-ad71-60d88ce7ef32",
   "metadata": {},
   "outputs": [],
   "source": []
  },
  {
   "cell_type": "code",
   "execution_count": null,
   "id": "1c108975-ea5c-4414-bf17-14b0f4e9f253",
   "metadata": {},
   "outputs": [],
   "source": [
    "chain[2].update_runtime(runtime, phrases[0])"
   ]
  },
  {
   "cell_type": "code",
   "execution_count": null,
   "id": "25d639eb-99b3-4345-b822-4963433d7437",
   "metadata": {},
   "outputs": [],
   "source": [
    "chain.stop()"
   ]
  },
  {
   "cell_type": "code",
   "execution_count": null,
   "id": "93b23a78-e58d-494f-b657-9e8e0ad53a79",
   "metadata": {},
   "outputs": [],
   "source": []
  },
  {
   "cell_type": "code",
   "execution_count": null,
   "id": "e6615dc6-50e3-4201-901d-673c852d5058",
   "metadata": {},
   "outputs": [],
   "source": [
    "# TOOLBOX"
   ]
  },
  {
   "cell_type": "code",
   "execution_count": null,
   "id": "26f79fc2-beeb-43dc-8c90-548480b3a025",
   "metadata": {},
   "outputs": [],
   "source": [
    "# General chain status\n",
    "chain.status()"
   ]
  },
  {
   "cell_type": "code",
   "execution_count": null,
   "id": "cadf9b44-8fcb-4caa-af6b-70fe55024e6f",
   "metadata": {},
   "outputs": [],
   "source": [
    "# Restart some nodes\n",
    "chain.stop(nodes=[2,3])\n",
    "time.sleep(5)\n",
    "chain.start(nodes=[2,3], 'restart')"
   ]
  },
  {
   "cell_type": "code",
   "execution_count": null,
   "id": "72c86c31-01ed-43f0-80f9-1898df514d68",
   "metadata": {},
   "outputs": [],
   "source": [
    "# Restart the whole chain\n",
    "chain.stop()\n",
    "time.sleep(5)\n",
    "chain.start('fullrestart')"
   ]
  },
  {
   "cell_type": "code",
   "execution_count": null,
   "id": "e54777c2-feb2-4149-8afa-c58e9de6636f",
   "metadata": {},
   "outputs": [],
   "source": [
    "# Change log level for one node (on the fly)\n",
    "chain[6].set_log_level('sync', 'debug')"
   ]
  },
  {
   "cell_type": "code",
   "execution_count": null,
   "id": "228bec26-9db6-4c91-9e6c-7267edc31b5f",
   "metadata": {},
   "outputs": [],
   "source": [
    "# Change log level for all nodes (on the fly)\n",
    "chain.set_log_level('sync', 'debug')"
   ]
  },
  {
   "cell_type": "code",
   "execution_count": null,
   "id": "50149ba8-e746-4750-a498-2e016905a075",
   "metadata": {
    "scrolled": true
   },
   "outputs": [],
   "source": [
    "# Grep node's current log for regexp\n",
    "chain[0].greplog(r'best: #\\d+ .+ finalized #\\d+')"
   ]
  },
  {
   "cell_type": "code",
   "execution_count": null,
   "id": "2c45bbdf-d13e-457d-99c4-a9e09aa09168",
   "metadata": {},
   "outputs": [],
   "source": []
  }
 ],
 "metadata": {
  "kernelspec": {
   "display_name": "Python 3 (ipykernel)",
   "language": "python",
   "name": "python3"
  },
  "language_info": {
   "codemirror_mode": {
    "name": "ipython",
    "version": 3
   },
   "file_extension": ".py",
   "mimetype": "text/x-python",
   "name": "python",
   "nbconvert_exporter": "python",
   "pygments_lexer": "ipython3",
   "version": "3.11.3"
  }
 },
 "nbformat": 4,
 "nbformat_minor": 5
}
