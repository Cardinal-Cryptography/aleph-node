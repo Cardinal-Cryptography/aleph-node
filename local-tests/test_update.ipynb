{
 "cells": [
  {
   "cell_type": "code",
   "execution_count": null,
   "id": "034d1a27-bc87-40c9-887d-c91c94e86105",
   "metadata": {},
   "outputs": [],
   "source": [
    "import subprocess\n",
    "from os.path import join\n",
    "from time import sleep\n",
    "from chainrunner import Chain, Seq, generate_keys"
   ]
  },
  {
   "cell_type": "code",
   "execution_count": null,
   "id": "8cfb5287-6026-432e-a880-3121cd102547",
   "metadata": {},
   "outputs": [],
   "source": [
    "# Path to working directory, where chainspec, logs and nodes' dbs are written:\n",
    "workdir = '/tmp/workdir'\n",
    "# Path to the pre-update aleph-node binary:\n",
    "oldbin = join(workdir,'aleph-node-old')\n",
    "# Path to the post-update aleph-node binary:\n",
    "newbin = join(workdir,'aleph-node-new')\n",
    "# Path to the post-update compiled runtime:\n",
    "runtime = join(workdir,'aleph_runtime.compact.wasm')\n",
    "# Path to the send-runtime binary (which lives in aleph-node/local-tests/send-runtime):\n",
    "send_runtime = 'send-runtime/target/release/send_runtime'"
   ]
  },
  {
   "cell_type": "code",
   "execution_count": null,
   "id": "45749ef5-15a5-4688-9cb9-3f4c01f4beeb",
   "metadata": {},
   "outputs": [],
   "source": [
    "def query_runtime_version(chain):\n",
    "    print('Current version:')\n",
    "    for i,node in enumerate(chain):\n",
    "        sys = node.rpc('system_version').result\n",
    "        rt = node.rpc('state_getRuntimeVersion').result['specVersion']\n",
    "        print(f'  Node {i}: system: {sys}  runtime: {rt}')"
   ]
  },
  {
   "cell_type": "code",
   "execution_count": null,
   "id": "9571e575-2e33-4b1f-a794-ce869bd92111",
   "metadata": {},
   "outputs": [],
   "source": [
    "def check_highest(chain):\n",
    "    results = [node.highest_block() for node in chain]\n",
    "    highest, finalized = zip(*results)\n",
    "    print('Blocks seen by nodes:')\n",
    "    print('  Highest:   ', *highest)\n",
    "    print('  Finalized: ', *finalized)"
   ]
  },
  {
   "cell_type": "code",
   "execution_count": null,
   "id": "8b14abd3-19d0-4203-848e-e5222f6e9cc0",
   "metadata": {},
   "outputs": [],
   "source": [
    "phrases = ['//Cartman','//Stan','//Kyle','//Kenny']\n",
    "keys = generate_keys(newbin, phrases)"
   ]
  },
  {
   "cell_type": "code",
   "execution_count": null,
   "id": "8b05b63c-9bf2-48b9-acd5-6c87f19480b3",
   "metadata": {},
   "outputs": [],
   "source": [
    "chain = Chain(workdir)\n",
    "chain.bootstrap(oldbin, keys.values(), sudo_account_id=keys[phrases[0]], chain_type='local', millisecs_per_block=2000, session_period=40)"
   ]
  },
  {
   "cell_type": "code",
   "execution_count": null,
   "id": "8e8af710-b10e-4c25-bbf4-3651fece2370",
   "metadata": {},
   "outputs": [],
   "source": [
    "chain.set_flags('validator', port=Seq(30334), ws_port=Seq(9944), rpc_port=Seq(9933), unit_creation_delay=200, execution='Native')"
   ]
  },
  {
   "cell_type": "code",
   "execution_count": null,
   "id": "8ff42153-9867-48cf-affb-bdfe0303571d",
   "metadata": {},
   "outputs": [],
   "source": [
    "chain.start('old')"
   ]
  },
  {
   "cell_type": "code",
   "execution_count": null,
   "id": "97107c53-8e42-4af0-8446-0ed2d3fa7b30",
   "metadata": {},
   "outputs": [],
   "source": [
    "check_highest(chain)\n",
    "query_runtime_version(chain)"
   ]
  },
  {
   "cell_type": "code",
   "execution_count": null,
   "id": "87c58e74-854d-486f-8b18-0f968a40bf7f",
   "metadata": {},
   "outputs": [],
   "source": [
    "chain[3].stop()\n",
    "chain[3].purge()\n",
    "chain[3].binary = newbin\n",
    "chain[3].start('new3')"
   ]
  },
  {
   "cell_type": "code",
   "execution_count": null,
   "id": "07e76c58-4499-43e2-891a-4fbbca6cb07d",
   "metadata": {},
   "outputs": [],
   "source": [
    "check_highest(chain)\n",
    "query_runtime_version(chain)"
   ]
  },
  {
   "cell_type": "code",
   "execution_count": null,
   "id": "832a078b-8c35-49f5-b15f-45a4a5cc564b",
   "metadata": {},
   "outputs": [],
   "source": [
    "subprocess.check_call([send_runtime, '--url', 'localhost:9945', '--sudo-phrase', phrases[0], runtime])"
   ]
  },
  {
   "cell_type": "code",
   "execution_count": null,
   "id": "9bbfcd09-4acf-4d5f-ae4e-65bbe8298d8d",
   "metadata": {},
   "outputs": [],
   "source": [
    "check_highest(chain)\n",
    "query_runtime_version(chain)"
   ]
  },
  {
   "cell_type": "code",
   "execution_count": null,
   "id": "89edbda5-7520-4b23-8ed4-82966b464b4b",
   "metadata": {},
   "outputs": [],
   "source": [
    "chain.stop(nodes=[0,1,2])\n",
    "chain.set_binary(newbin, nodes=[0,1,2])\n",
    "chain.start('new', nodes=[0,1,2])"
   ]
  },
  {
   "cell_type": "code",
   "execution_count": null,
   "id": "c212ec11-8042-49db-a068-4251a7329e35",
   "metadata": {},
   "outputs": [],
   "source": [
    "check_highest(chain)\n",
    "query_runtime_version(chain)"
   ]
  },
  {
   "cell_type": "code",
   "execution_count": null,
   "id": "573cbca6-202d-4663-909d-35d7503a25d6",
   "metadata": {},
   "outputs": [],
   "source": [
    "chain.stop()"
   ]
  },
  {
   "cell_type": "code",
   "execution_count": null,
   "id": "0ebd87fa-944e-4b5b-9c9e-10e401eb3272",
   "metadata": {},
   "outputs": [],
   "source": [
    "hf = min(node.highest_block()[1] for node in chain)\n",
    "print(f'Sanity check: the highest finalized block is {hf}. Comparing exported states after that block:')\n",
    "if (chain[0].state(hf) == chain[1].state(hf) == chain[2].state(hf) == chain[3].state(hf)):\n",
    "    print(\"The same :)\")\n",
    "else:\n",
    "    print(\"DIFFERENT!\")"
   ]
  }
 ],
 "metadata": {
  "kernelspec": {
   "display_name": "Python 3 (ipykernel)",
   "language": "python",
   "name": "python3"
  },
  "language_info": {
   "codemirror_mode": {
    "name": "ipython",
    "version": 3
   },
   "file_extension": ".py",
   "mimetype": "text/x-python",
   "name": "python",
   "nbconvert_exporter": "python",
   "pygments_lexer": "ipython3",
   "version": "3.9.9"
  }
 },
 "nbformat": 4,
 "nbformat_minor": 5
}
