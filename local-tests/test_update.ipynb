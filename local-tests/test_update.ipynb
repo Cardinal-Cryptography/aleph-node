{
 "cells": [
  {
   "cell_type": "code",
   "execution_count": null,
   "id": "034d1a27-bc87-40c9-887d-c91c94e86105",
   "metadata": {},
   "outputs": [],
   "source": [
    "import jsonrpcclient\n",
    "import subprocess\n",
    "from os.path import join\n",
    "from chainrunner import Chain, Seq, generate_keys, check_finalized"
   ]
  },
  {
   "cell_type": "code",
   "execution_count": null,
   "id": "8cfb5287-6026-432e-a880-3121cd102547",
   "metadata": {},
   "outputs": [],
   "source": [
    "# Path to working directory, where chainspec, logs and nodes' dbs are written:\n",
    "workdir = '/tmp/workdir'\n",
    "# Path to the pre-update aleph-node binary:\n",
    "oldbin = join(workdir,'aleph-node-old')\n",
    "# Path to the post-update aleph-node binary:\n",
    "newbin = join(workdir,'aleph-node-new')\n",
    "# Path to the post-update compiled runtime:\n",
    "runtime = join(workdir,'aleph_runtime.compact.wasm')\n",
    "# Path to cliain:\n",
    "cliain = '../bin/cliain/target/release/cliain'"
   ]
  },
  {
   "cell_type": "code",
   "execution_count": null,
   "id": "45749ef5-15a5-4688-9cb9-3f4c01f4beeb",
   "metadata": {},
   "outputs": [],
   "source": [
    "def query_runtime_version(nodes):\n",
    "    print('Current version:')\n",
    "    versions = set()\n",
    "    for i, node in enumerate(nodes):\n",
    "        sysver = node.rpc('system_version').result\n",
    "        resp = node.rpc('state_getRuntimeVersion')\n",
    "        if isinstance(resp, jsonrpcclient.Ok):\n",
    "            rt = resp.result['specVersion']\n",
    "            versions.add(rt)\n",
    "        else:\n",
    "            rt = \"ERROR\"\n",
    "        print(f'  Node {i}: system: {sysver}  runtime: {rt}')\n",
    "    if len(versions) > 1:\n",
    "        print(f'ERROR: nodes reported different runtime versions: {versions}')\n",
    "    if versions:\n",
    "        return max(versions)\n",
    "    return -1"
   ]
  },
  {
   "cell_type": "code",
   "execution_count": null,
   "id": "8b14abd3-19d0-4203-848e-e5222f6e9cc0",
   "metadata": {},
   "outputs": [],
   "source": [
    "phrases = ['//Cartman','//Stan','//Kyle','//Kenny']\n",
    "keys = generate_keys(newbin, phrases)"
   ]
  },
  {
   "cell_type": "code",
   "execution_count": null,
   "id": "8b05b63c-9bf2-48b9-acd5-6c87f19480b3",
   "metadata": {},
   "outputs": [],
   "source": [
    "chain = Chain(workdir)\n",
    "chain.bootstrap(oldbin,\n",
    "                keys.values(),\n",
    "                sudo_account_id=keys[phrases[0]],\n",
    "                chain_type='local')"
   ]
  },
  {
   "cell_type": "code",
   "execution_count": null,
   "id": "8e8af710-b10e-4c25-bbf4-3651fece2370",
   "metadata": {
    "tags": []
   },
   "outputs": [],
   "source": [
    "chain.set_flags('validator',\n",
    "                port=Seq(30334),\n",
    "                ws_port=Seq(9944),\n",
    "                rpc_port=Seq(9933),\n",
    "                unit_creation_delay=200,\n",
    "                execution='Native')\n",
    "addresses = [n.address() for n in chain]\n",
    "chain.set_flags(public_addr=addresses)"
   ]
  },
  {
   "cell_type": "code",
   "execution_count": null,
   "id": "8ff42153-9867-48cf-affb-bdfe0303571d",
   "metadata": {},
   "outputs": [],
   "source": [
    "chain.start('old')"
   ]
  },
  {
   "cell_type": "code",
   "execution_count": null,
   "id": "97107c53-8e42-4af0-8446-0ed2d3fa7b30",
   "metadata": {},
   "outputs": [],
   "source": [
    "check_finalized(chain)\n",
    "query_runtime_version(chain)"
   ]
  },
  {
   "cell_type": "code",
   "execution_count": null,
   "id": "87c58e74-854d-486f-8b18-0f968a40bf7f",
   "metadata": {},
   "outputs": [],
   "source": [
    "chain[3].stop()\n",
    "chain[3].purge()\n",
    "chain[3].binary = newbin\n",
    "chain[3].start('new3')"
   ]
  },
  {
   "cell_type": "code",
   "execution_count": null,
   "id": "07e76c58-4499-43e2-891a-4fbbca6cb07d",
   "metadata": {},
   "outputs": [],
   "source": [
    "check_finalized(chain)\n",
    "oldver = query_runtime_version(chain)"
   ]
  },
  {
   "cell_type": "code",
   "execution_count": null,
   "id": "832a078b-8c35-49f5-b15f-45a4a5cc564b",
   "metadata": {},
   "outputs": [],
   "source": [
    "subprocess.check_call(\n",
    "    [cliain, '--node', 'localhost:9945', '--seed', phrases[0],\n",
    "        'update-runtime', '--runtime', runtime],\n",
    "    env=dict(os.environ, RUST_LOG=\"warn\"))"
   ]
  },
  {
   "cell_type": "code",
   "execution_count": null,
   "id": "9bbfcd09-4acf-4d5f-ae4e-65bbe8298d8d",
   "metadata": {},
   "outputs": [],
   "source": [
    "check_finalized(chain)\n",
    "newver = query_runtime_version(chain)"
   ]
  },
  {
   "cell_type": "code",
   "execution_count": null,
   "id": "89edbda5-7520-4b23-8ed4-82966b464b4b",
   "metadata": {},
   "outputs": [],
   "source": [
    "chain.stop(nodes=[0,1,2])\n",
    "chain.set_binary(newbin, nodes=[0,1,2])\n",
    "chain.start('new', nodes=[0,1,2])"
   ]
  },
  {
   "cell_type": "code",
   "execution_count": null,
   "id": "c212ec11-8042-49db-a068-4251a7329e35",
   "metadata": {},
   "outputs": [],
   "source": [
    "check_finalized(chain)\n",
    "query_runtime_version(chain)"
   ]
  },
  {
   "cell_type": "code",
   "execution_count": null,
   "id": "573cbca6-202d-4663-909d-35d7503a25d6",
   "metadata": {},
   "outputs": [],
   "source": [
    "chain.stop()"
   ]
  },
  {
   "cell_type": "code",
   "execution_count": null,
   "id": "0ebd87fa-944e-4b5b-9c9e-10e401eb3272",
   "metadata": {},
   "outputs": [],
   "source": [
    "hf = min(node.highest_block()[1] for node in chain)\n",
    "print(f'Sanity check: the highest finalized block is {hf}. Comparing exported states after that block:')\n",
    "if chain[0].state(hf) == chain[1].state(hf) == chain[2].state(hf) == chain[3].state(hf):\n",
    "    print(\"The same :)\")\n",
    "else:\n",
    "    print(\"DIFFERENT!\")"
   ]
  },
  {
   "cell_type": "code",
   "execution_count": null,
   "id": "9ede429e-fca2-41fe-80c7-ac7df1606ddc",
   "metadata": {},
   "outputs": [],
   "source": [
    "if oldver == newver:\n",
    "    print(\"ERROR: runtime version reported by nodes didn't change after the update\")\n"
   ]
  }
 ],
 "metadata": {
  "kernelspec": {
   "display_name": "Python 3 (ipykernel)",
   "language": "python",
   "name": "python3"
  },
  "language_info": {
   "codemirror_mode": {
    "name": "ipython",
    "version": 3
   },
   "file_extension": ".py",
   "mimetype": "text/x-python",
   "name": "python",
   "nbconvert_exporter": "python",
   "pygments_lexer": "ipython3",
   "version": "3.10.4"
  }
 },
 "nbformat": 4,
 "nbformat_minor": 5
}
